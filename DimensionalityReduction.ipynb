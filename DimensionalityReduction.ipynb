{
  "nbformat": 4,
  "nbformat_minor": 0,
  "metadata": {
    "colab": {
      "provenance": [],
      "authorship_tag": "ABX9TyM4VQKtCP4BtF2CwRf/Y4vg",
      "include_colab_link": true
    },
    "kernelspec": {
      "name": "python3",
      "display_name": "Python 3"
    },
    "language_info": {
      "name": "python"
    }
  },
  "cells": [
    {
      "cell_type": "markdown",
      "metadata": {
        "id": "view-in-github",
        "colab_type": "text"
      },
      "source": [
        "<a href=\"https://colab.research.google.com/github/sherbinsr/Python/blob/main/DimensionalityReduction.ipynb\" target=\"_parent\"><img src=\"https://colab.research.google.com/assets/colab-badge.svg\" alt=\"Open In Colab\"/></a>"
      ]
    },
    {
      "cell_type": "code",
      "execution_count": null,
      "metadata": {
        "id": "RtK9I5UUnLwI"
      },
      "outputs": [],
      "source": [
        "pip install scikit-surprise"
      ]
    },
    {
      "cell_type": "code",
      "source": [
        "from surprise import Dataset\n",
        "from surprise import Reader\n",
        "from surprise import SVD\n",
        "from surprise.model_selection import cross_validate\n",
        "\n",
        "# Sample data (replace with your own dataset)\n",
        "data = {\n",
        "    'user_ids': [1, 1, 2, 2, 3, 3, 4, 4, 5, 5],\n",
        "    'item_ids': ['A', 'B', 'A', 'C', 'B', 'D', 'C', 'D', 'A', 'C'],\n",
        "    'ratings': [5, 4, 3, 2, 4, 5, 3, 1, 2, 4]\n",
        "}\n",
        "\n",
        "# Create a DataFrame from the sample data\n",
        "import pandas as pd\n",
        "df = pd.DataFrame(data)\n",
        "\n",
        "# Define the Reader object to parse the data\n",
        "reader = Reader(rating_scale=(1, 5))\n",
        "\n",
        "# Load the dataset\n",
        "dataset = Dataset.load_from_df(df[['user_ids', 'item_ids', 'ratings']], reader)\n",
        "\n",
        "# Use SVD for dimension reduction\n",
        "algo = SVD()\n",
        "\n",
        "# Perform cross-validation\n",
        "cross_validate(algo, dataset, measures=['RMSE', 'MAE'], cv=5, verbose=True)\n",
        "\n",
        "# Train the model on the full dataset\n",
        "trainset = dataset.build_full_trainset()\n",
        "algo.fit(trainset)\n",
        "\n",
        "# Make predictions for a specific user and item\n",
        "user_id = 1\n",
        "item_id = 'C'\n",
        "predicted_rating = algo.predict(user_id, item_id).est\n",
        "print(f\"Predicted rating for user {user_id} and item {item_id}: {predicted_rating}\")"
      ],
      "metadata": {
        "colab": {
          "base_uri": "https://localhost:8080/"
        },
        "id": "Inz_jsOXn2iw",
        "outputId": "577a44c7-ac2c-4edc-eeaf-db6e0fe5f6ea"
      },
      "execution_count": 2,
      "outputs": [
        {
          "output_type": "stream",
          "name": "stdout",
          "text": [
            "Evaluating RMSE, MAE of algorithm SVD on 5 split(s).\n",
            "\n",
            "                  Fold 1  Fold 2  Fold 3  Fold 4  Fold 5  Mean    Std     \n",
            "RMSE (testset)    2.0287  1.4881  1.1600  1.3820  0.6978  1.3513  0.4341  \n",
            "MAE (testset)     1.6445  1.4473  1.1026  0.9903  0.6978  1.1765  0.3352  \n",
            "Fit time          0.00    0.00    0.00    0.00    0.00    0.00    0.00    \n",
            "Test time         0.00    0.00    0.00    0.00    0.00    0.00    0.00    \n",
            "Predicted rating for user 1 and item C: 3.4634109617602786\n"
          ]
        }
      ]
    }
  ]
}